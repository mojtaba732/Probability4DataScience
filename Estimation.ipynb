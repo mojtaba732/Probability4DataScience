{
  "nbformat": 4,
  "nbformat_minor": 0,
  "metadata": {
    "colab": {
      "name": "Estimation.ipynb",
      "provenance": [],
      "authorship_tag": "ABX9TyPhHU1WMgE4nlG4vBe9MFfS",
      "include_colab_link": true
    },
    "kernelspec": {
      "name": "python3",
      "display_name": "Python 3"
    },
    "language_info": {
      "name": "python"
    }
  },
  "cells": [
    {
      "cell_type": "markdown",
      "metadata": {
        "id": "view-in-github",
        "colab_type": "text"
      },
      "source": [
        "<a href=\"https://colab.research.google.com/github/mojtaba732/Probability4DataScience/blob/main/Estimation.ipynb\" target=\"_parent\"><img src=\"https://colab.research.google.com/assets/colab-badge.svg\" alt=\"Open In Colab\"/></a>"
      ]
    },
    {
      "cell_type": "markdown",
      "source": [
        ""
      ],
      "metadata": {
        "id": "Yu0K8ZgHQz-q"
      }
    },
    {
      "cell_type": "markdown",
      "source": [
        "***Estimation*** is an inverse problem with the goal of recovering the underlying parameter θ of a distribution \\f_X(x;θ) based on observed samples X1,X2,...\n"
      ],
      "metadata": {
        "id": "ig_E0oKxQ1hh"
      }
    }
  ]
}